{
 "cells": [
  {
   "cell_type": "code",
   "execution_count": 1,
   "id": "92b4b683-5ecb-4c85-a360-1928236ce958",
   "metadata": {},
   "outputs": [],
   "source": [
    "l=[1,2,3,4,5]"
   ]
  },
  {
   "cell_type": "code",
   "execution_count": 3,
   "id": "feb46622-297f-4157-bf0a-e63019a0c39b",
   "metadata": {},
   "outputs": [
    {
     "name": "stdout",
     "output_type": "stream",
     "text": [
      "1 <class 'int'>\n",
      "2 <class 'int'>\n",
      "3 <class 'int'>\n",
      "4 <class 'int'>\n",
      "5 <class 'int'>\n"
     ]
    }
   ],
   "source": [
    "for i in l:\n",
    "    print(i,type(i))"
   ]
  },
  {
   "cell_type": "code",
   "execution_count": 5,
   "id": "14b4092d-8111-4ea1-9e2c-53b90f257b78",
   "metadata": {},
   "outputs": [],
   "source": [
    "l1=[\"chhaya\",\"kumari\",\"rai\",\"science\",\"computer\"]"
   ]
  },
  {
   "cell_type": "code",
   "execution_count": 6,
   "id": "14e0cf94-6332-49d6-bb7a-05a7231fef89",
   "metadata": {},
   "outputs": [
    {
     "name": "stdout",
     "output_type": "stream",
     "text": [
      "chhaya\n",
      "kumari\n",
      "rai\n",
      "science\n",
      "computer\n"
     ]
    }
   ],
   "source": [
    "for i in l1:\n",
    "    print(i)"
   ]
  },
  {
   "cell_type": "code",
   "execution_count": 7,
   "id": "7c3a5999-e3ed-4782-8287-8875d7640a03",
   "metadata": {},
   "outputs": [
    {
     "data": {
      "text/plain": [
       "['chhaya', 'kumari', 'rai', 'science', 'computer']"
      ]
     },
     "execution_count": 7,
     "metadata": {},
     "output_type": "execute_result"
    }
   ],
   "source": [
    "l1"
   ]
  },
  {
   "cell_type": "code",
   "execution_count": 9,
   "id": "f3154ea7-8d08-468c-a720-fd6814dc004d",
   "metadata": {},
   "outputs": [
    {
     "name": "stdout",
     "output_type": "stream",
     "text": [
      "chhaya\n",
      "kumari\n"
     ]
    }
   ],
   "source": [
    "for i in l1:\n",
    "    if i==\"rai\":\n",
    "        break\n",
    "    print(i)"
   ]
  },
  {
   "cell_type": "code",
   "execution_count": 10,
   "id": "e41f9217-d97f-427a-a1d0-ca2e5b88cb6f",
   "metadata": {},
   "outputs": [
    {
     "name": "stdout",
     "output_type": "stream",
     "text": [
      "chhaya\n",
      "kumari\n",
      "science\n",
      "computer\n"
     ]
    }
   ],
   "source": [
    "for i in l1:\n",
    "    if i==\"rai\":\n",
    "        continue\n",
    "    print(i)"
   ]
  },
  {
   "cell_type": "code",
   "execution_count": 12,
   "id": "318c974f-96e0-44e8-a4f1-5ac211023a1f",
   "metadata": {},
   "outputs": [
    {
     "name": "stdout",
     "output_type": "stream",
     "text": [
      "chhaya\n",
      "kumari\n"
     ]
    }
   ],
   "source": [
    "for i in l1:\n",
    "    if i==\"rai\":\n",
    "        break\n",
    "    print(i)\n",
    "else:\n",
    "    print(\"it' all done...!!\")"
   ]
  },
  {
   "cell_type": "code",
   "execution_count": 13,
   "id": "5c3bedb0-c93f-4ff2-8162-3d94503e9e1d",
   "metadata": {},
   "outputs": [
    {
     "name": "stdout",
     "output_type": "stream",
     "text": [
      "chhaya\n",
      "kumari\n",
      "science\n",
      "computer\n",
      "it' all done...!!\n"
     ]
    }
   ],
   "source": [
    "for i in l1:\n",
    "    if i==\"rai\":\n",
    "        continue\n",
    "    print(i)\n",
    "else:\n",
    "    print(\"it' all done...!!\")"
   ]
  },
  {
   "cell_type": "code",
   "execution_count": 14,
   "id": "c628ba43-827e-4f84-b789-a0a1d99de8b7",
   "metadata": {},
   "outputs": [
    {
     "data": {
      "text/plain": [
       "range(0, 10)"
      ]
     },
     "execution_count": 14,
     "metadata": {},
     "output_type": "execute_result"
    }
   ],
   "source": [
    "range(0,10)"
   ]
  },
  {
   "cell_type": "code",
   "execution_count": 15,
   "id": "f17828c2-0c25-4c53-929c-a3424b50f398",
   "metadata": {},
   "outputs": [
    {
     "data": {
      "text/plain": [
       "[0, 1, 2, 3, 4, 5, 6, 7, 8, 9]"
      ]
     },
     "execution_count": 15,
     "metadata": {},
     "output_type": "execute_result"
    }
   ],
   "source": [
    "list(range(0,10))"
   ]
  },
  {
   "cell_type": "code",
   "execution_count": 16,
   "id": "56e96e86-3e0f-458c-9758-108d9b773f92",
   "metadata": {},
   "outputs": [
    {
     "data": {
      "text/plain": [
       "[0, 2, 4, 6, 8, 10, 12, 14, 16, 18]"
      ]
     },
     "execution_count": 16,
     "metadata": {},
     "output_type": "execute_result"
    }
   ],
   "source": [
    "list(range(0,20 ,2))"
   ]
  },
  {
   "cell_type": "code",
   "execution_count": 17,
   "id": "18754ed7-8e72-4797-b8c8-0cc5c2141ba1",
   "metadata": {},
   "outputs": [
    {
     "data": {
      "text/plain": [
       "[0, 4, 8, 12, 16]"
      ]
     },
     "execution_count": 17,
     "metadata": {},
     "output_type": "execute_result"
    }
   ],
   "source": [
    "list(range(0,20 ,4))"
   ]
  },
  {
   "cell_type": "code",
   "execution_count": 18,
   "id": "f86cfb67-ec0a-4b54-b4d1-1796ef756c43",
   "metadata": {},
   "outputs": [
    {
     "data": {
      "text/plain": [
       "[0, 3, 6, 9, 12, 15, 18]"
      ]
     },
     "execution_count": 18,
     "metadata": {},
     "output_type": "execute_result"
    }
   ],
   "source": [
    "list(range(0,20 ,3))"
   ]
  },
  {
   "cell_type": "code",
   "execution_count": 19,
   "id": "e32be10c-e5d4-4f14-beb8-5c9abc5a4864",
   "metadata": {},
   "outputs": [
    {
     "data": {
      "text/plain": [
       "[-10, -9, -8, -7, -6, -5, -4, -3, -2, -1]"
      ]
     },
     "execution_count": 19,
     "metadata": {},
     "output_type": "execute_result"
    }
   ],
   "source": [
    "list(range(-10,0))"
   ]
  },
  {
   "cell_type": "code",
   "execution_count": 21,
   "id": "52dd7961-873a-46ac-b07f-8102a589d553",
   "metadata": {},
   "outputs": [
    {
     "data": {
      "text/plain": [
       "[-10, -9, -8, -7, -6, -5, -4, -3]"
      ]
     },
     "execution_count": 21,
     "metadata": {},
     "output_type": "execute_result"
    }
   ],
   "source": [
    "list(range(-10,-2))"
   ]
  },
  {
   "cell_type": "code",
   "execution_count": 22,
   "id": "7eb6a4f1-c428-43d3-b9e3-4f9235bf3df2",
   "metadata": {},
   "outputs": [
    {
     "data": {
      "text/plain": [
       "['chhaya', 'kumari', 'rai', 'science', 'computer']"
      ]
     },
     "execution_count": 22,
     "metadata": {},
     "output_type": "execute_result"
    }
   ],
   "source": [
    "l1"
   ]
  },
  {
   "cell_type": "code",
   "execution_count": 23,
   "id": "2f9c503e-dfd0-426b-82ac-b0cdb62481a9",
   "metadata": {},
   "outputs": [
    {
     "data": {
      "text/plain": [
       "5"
      ]
     },
     "execution_count": 23,
     "metadata": {},
     "output_type": "execute_result"
    }
   ],
   "source": [
    "len(l1)"
   ]
  },
  {
   "cell_type": "code",
   "execution_count": 24,
   "id": "73a83614-72a2-479f-8209-a9826d31e924",
   "metadata": {},
   "outputs": [
    {
     "data": {
      "text/plain": [
       "[1, 2, 3, 4, 5]"
      ]
     },
     "execution_count": 24,
     "metadata": {},
     "output_type": "execute_result"
    }
   ],
   "source": [
    "l"
   ]
  },
  {
   "cell_type": "code",
   "execution_count": 25,
   "id": "1901a6d1-772d-4e35-9f78-ee65a47e14ce",
   "metadata": {},
   "outputs": [
    {
     "data": {
      "text/plain": [
       "5"
      ]
     },
     "execution_count": 25,
     "metadata": {},
     "output_type": "execute_result"
    }
   ],
   "source": [
    "len(l)"
   ]
  },
  {
   "cell_type": "code",
   "execution_count": 27,
   "id": "ec1f1f92-a0eb-4b42-aed8-5f8fbb2fbde6",
   "metadata": {},
   "outputs": [
    {
     "data": {
      "text/plain": [
       "[4, 3, 2, 1, 0]"
      ]
     },
     "execution_count": 27,
     "metadata": {},
     "output_type": "execute_result"
    }
   ],
   "source": [
    "list(range(len(l1)-1,-1,-1))"
   ]
  },
  {
   "cell_type": "code",
   "execution_count": 28,
   "id": "a7c67542-6534-4d3f-bef1-8d3f48284a1c",
   "metadata": {},
   "outputs": [
    {
     "data": {
      "text/plain": [
       "['chhaya', 'kumari', 'rai', 'science', 'computer']"
      ]
     },
     "execution_count": 28,
     "metadata": {},
     "output_type": "execute_result"
    }
   ],
   "source": [
    "l1"
   ]
  },
  {
   "cell_type": "code",
   "execution_count": 31,
   "id": "c1204f08-c450-42fb-8917-1c3d9b8b0d73",
   "metadata": {},
   "outputs": [
    {
     "name": "stdout",
     "output_type": "stream",
     "text": [
      "['chhaya', 'kumari', 'rai', 'science', 'computer']\n",
      "['chhaya', 'kumari', 'rai', 'science', 'computer']\n",
      "['chhaya', 'kumari', 'rai', 'science', 'computer']\n",
      "['chhaya', 'kumari', 'rai', 'science', 'computer']\n",
      "['chhaya', 'kumari', 'rai', 'science', 'computer']\n"
     ]
    }
   ],
   "source": [
    "for i in range(len(l1)-1,-1,-1):\n",
    "    print(l1)"
   ]
  },
  {
   "cell_type": "code",
   "execution_count": 32,
   "id": "d9ba80bc-421d-4d48-8cd5-455160cd0b8c",
   "metadata": {},
   "outputs": [
    {
     "name": "stdout",
     "output_type": "stream",
     "text": [
      "computer\n",
      "science\n",
      "rai\n",
      "kumari\n",
      "chhaya\n"
     ]
    }
   ],
   "source": [
    "for i in range(len(l1)-1,-1,-1):\n",
    "    print(l1[i])"
   ]
  },
  {
   "cell_type": "code",
   "execution_count": 33,
   "id": "39e48203-88b9-4a51-986f-b3c23f730314",
   "metadata": {},
   "outputs": [],
   "source": [
    "l2=[3,45,23,12,98,334,23,40,21]"
   ]
  },
  {
   "cell_type": "code",
   "execution_count": 34,
   "id": "da73728a-0394-4448-a36c-185d21250bb0",
   "metadata": {},
   "outputs": [
    {
     "data": {
      "text/plain": [
       "9"
      ]
     },
     "execution_count": 34,
     "metadata": {},
     "output_type": "execute_result"
    }
   ],
   "source": [
    "len(l2)"
   ]
  },
  {
   "cell_type": "code",
   "execution_count": 35,
   "id": "116b2957-c107-40e8-8396-42cbb7770123",
   "metadata": {},
   "outputs": [
    {
     "name": "stdout",
     "output_type": "stream",
     "text": [
      "[3, 45, 23, 12, 98, 334, 23, 40, 21]\n",
      "[3, 45, 23, 12, 98, 334, 23, 40, 21]\n",
      "[3, 45, 23, 12, 98, 334, 23, 40, 21]\n",
      "[3, 45, 23, 12, 98, 334, 23, 40, 21]\n",
      "[3, 45, 23, 12, 98, 334, 23, 40, 21]\n"
     ]
    }
   ],
   "source": [
    "for i in range(0,len(l2),2):\n",
    "    print(l2)"
   ]
  },
  {
   "cell_type": "code",
   "execution_count": 38,
   "id": "74a6ff75-dc4f-445b-80ce-8ae98f730a6d",
   "metadata": {},
   "outputs": [
    {
     "name": "stdout",
     "output_type": "stream",
     "text": [
      "3\n",
      "23\n",
      "98\n",
      "23\n",
      "21\n"
     ]
    }
   ],
   "source": [
    "for i in range(0,len(l2),2):\n",
    "    print(l2[i])"
   ]
  },
  {
   "cell_type": "code",
   "execution_count": 39,
   "id": "68d14db1-d78c-461f-b40d-d8f7142b5bac",
   "metadata": {},
   "outputs": [
    {
     "data": {
      "text/plain": [
       "3"
      ]
     },
     "execution_count": 39,
     "metadata": {},
     "output_type": "execute_result"
    }
   ],
   "source": [
    "l2[0]"
   ]
  },
  {
   "cell_type": "code",
   "execution_count": 40,
   "id": "330c999e-3a6f-4001-b683-29dc998298bf",
   "metadata": {},
   "outputs": [
    {
     "data": {
      "text/plain": [
       "334"
      ]
     },
     "execution_count": 40,
     "metadata": {},
     "output_type": "execute_result"
    }
   ],
   "source": [
    "l2[5]"
   ]
  },
  {
   "cell_type": "code",
   "execution_count": 43,
   "id": "21aa5260-c660-4f77-8123-c1ec39535bc6",
   "metadata": {},
   "outputs": [
    {
     "data": {
      "text/plain": [
       "599"
      ]
     },
     "execution_count": 43,
     "metadata": {},
     "output_type": "execute_result"
    }
   ],
   "source": [
    "sum(l2)"
   ]
  },
  {
   "cell_type": "code",
   "execution_count": 49,
   "id": "ed3332c4-2f41-4f2f-b24b-2fed31fefee5",
   "metadata": {},
   "outputs": [
    {
     "name": "stdout",
     "output_type": "stream",
     "text": [
      "599\n"
     ]
    }
   ],
   "source": [
    "result=0\n",
    "for i in l2:\n",
    "    result = result+i\n",
    "print(result)"
   ]
  },
  {
   "cell_type": "code",
   "execution_count": 50,
   "id": "e203773b-d819-4454-9deb-e45137506b9d",
   "metadata": {},
   "outputs": [],
   "source": [
    "s={2,23,45,24,56,\"chhaya\",\"rai\"}"
   ]
  },
  {
   "cell_type": "code",
   "execution_count": 51,
   "id": "a6fe2d11-d848-49f6-936a-5b069dac7eeb",
   "metadata": {},
   "outputs": [
    {
     "name": "stdout",
     "output_type": "stream",
     "text": [
      "2\n",
      "23\n",
      "56\n",
      "24\n",
      "chhaya\n",
      "45\n",
      "rai\n"
     ]
    }
   ],
   "source": [
    "for i in s:\n",
    "    print(i)"
   ]
  },
  {
   "cell_type": "code",
   "execution_count": 52,
   "id": "34ad668f-75c0-4d37-b60c-09735912d79d",
   "metadata": {},
   "outputs": [],
   "source": [
    "s1=\"computer science\"\n"
   ]
  },
  {
   "cell_type": "code",
   "execution_count": 54,
   "id": "947dfb1f-2652-4417-b096-9a69c65499d1",
   "metadata": {},
   "outputs": [
    {
     "name": "stdout",
     "output_type": "stream",
     "text": [
      "c\n",
      "o\n",
      "m\n",
      "p\n",
      "u\n",
      "t\n",
      "e\n",
      "r\n",
      " \n",
      "s\n",
      "c\n",
      "i\n",
      "e\n",
      "n\n",
      "c\n",
      "e\n"
     ]
    }
   ],
   "source": [
    "for i in s1:\n",
    "    print(i)"
   ]
  },
  {
   "cell_type": "code",
   "execution_count": 55,
   "id": "53b7e14d-9208-46d6-937c-f13ccadfc7cd",
   "metadata": {},
   "outputs": [],
   "source": [
    "d={\"name\":\"chhaya\",\"class\":\"11th\",\"subject\":[\"maths\",\"physics\",\"computer\",\"chemistry\",\"english\"]}"
   ]
  },
  {
   "cell_type": "code",
   "execution_count": 56,
   "id": "9f9d06bd-6d11-4f55-808a-3ed0576e0c99",
   "metadata": {},
   "outputs": [
    {
     "data": {
      "text/plain": [
       "{'name': 'chhaya',\n",
       " 'class': '11th',\n",
       " 'subject': ['maths', 'physics', 'computer', 'chemistry', 'english']}"
      ]
     },
     "execution_count": 56,
     "metadata": {},
     "output_type": "execute_result"
    }
   ],
   "source": [
    "d"
   ]
  },
  {
   "cell_type": "code",
   "execution_count": 57,
   "id": "53be832f-9326-4737-a8ea-334eefdc31c1",
   "metadata": {},
   "outputs": [
    {
     "data": {
      "text/plain": [
       "'chhaya'"
      ]
     },
     "execution_count": 57,
     "metadata": {},
     "output_type": "execute_result"
    }
   ],
   "source": [
    "d[\"name\"]"
   ]
  },
  {
   "cell_type": "code",
   "execution_count": 58,
   "id": "00d73005-c2ae-4485-8fa9-6ba64e50bd4b",
   "metadata": {},
   "outputs": [
    {
     "data": {
      "text/plain": [
       "dict_keys(['name', 'class', 'subject'])"
      ]
     },
     "execution_count": 58,
     "metadata": {},
     "output_type": "execute_result"
    }
   ],
   "source": [
    "d.keys()"
   ]
  },
  {
   "cell_type": "code",
   "execution_count": 60,
   "id": "ce86757a-58f5-4fe8-af5b-53bc70fe1d93",
   "metadata": {},
   "outputs": [
    {
     "data": {
      "text/plain": [
       "dict_values(['chhaya', '11th', ['maths', 'physics', 'computer', 'chemistry', 'english']])"
      ]
     },
     "execution_count": 60,
     "metadata": {},
     "output_type": "execute_result"
    }
   ],
   "source": [
    "d.values()"
   ]
  },
  {
   "cell_type": "code",
   "execution_count": 61,
   "id": "c3398af9-82ee-4fff-8da9-4550a8a258ad",
   "metadata": {},
   "outputs": [
    {
     "data": {
      "text/plain": [
       "dict_items([('name', 'chhaya'), ('class', '11th'), ('subject', ['maths', 'physics', 'computer', 'chemistry', 'english'])])"
      ]
     },
     "execution_count": 61,
     "metadata": {},
     "output_type": "execute_result"
    }
   ],
   "source": [
    "d.items()"
   ]
  },
  {
   "cell_type": "code",
   "execution_count": 63,
   "id": "82a85c8d-3e17-4ccc-8565-956db886486d",
   "metadata": {},
   "outputs": [
    {
     "name": "stdout",
     "output_type": "stream",
     "text": [
      "('name', 'chhaya')\n",
      "('class', '11th')\n",
      "('subject', ['maths', 'physics', 'computer', 'chemistry', 'english'])\n"
     ]
    }
   ],
   "source": [
    "for i in d.items():\n",
    "    print(i)"
   ]
  },
  {
   "cell_type": "code",
   "execution_count": 64,
   "id": "5137d452-ed31-44b6-bf10-01467e1ea9cc",
   "metadata": {},
   "outputs": [
    {
     "data": {
      "text/plain": [
       "{'name': 'chhaya',\n",
       " 'class': '11th',\n",
       " 'subject': ['maths', 'physics', 'computer', 'chemistry', 'english']}"
      ]
     },
     "execution_count": 64,
     "metadata": {},
     "output_type": "execute_result"
    }
   ],
   "source": [
    "d.copy()"
   ]
  },
  {
   "cell_type": "code",
   "execution_count": 65,
   "id": "924ac32a-8cde-4ea3-b631-61fb9a2676ef",
   "metadata": {},
   "outputs": [
    {
     "data": {
      "text/plain": [
       "'11th'"
      ]
     },
     "execution_count": 65,
     "metadata": {},
     "output_type": "execute_result"
    }
   ],
   "source": [
    "d.pop(\"class\")"
   ]
  },
  {
   "cell_type": "code",
   "execution_count": 69,
   "id": "f5bbc1a3-602b-44f1-99f6-1906af75e635",
   "metadata": {},
   "outputs": [
    {
     "data": {
      "text/plain": [
       "('name', 'chhaya')"
      ]
     },
     "execution_count": 69,
     "metadata": {},
     "output_type": "execute_result"
    }
   ],
   "source": [
    "d.popitem()"
   ]
  },
  {
   "cell_type": "code",
   "execution_count": 70,
   "id": "26b18e2a-2ca8-405a-b5d1-877da9c0b4c4",
   "metadata": {},
   "outputs": [
    {
     "name": "stdout",
     "output_type": "stream",
     "text": [
      "2\n",
      "3\n",
      "4\n",
      "5\n",
      "6\n",
      "7\n",
      "8\n",
      "9\n",
      "10\n"
     ]
    }
   ],
   "source": [
    "a= 2\n",
    "\n",
    "while a <= 10 :  \n",
    "    print(a)\n",
    "    a = a +1"
   ]
  },
  {
   "cell_type": "code",
   "execution_count": 1,
   "id": "cf3b2d4a-b7bc-4c8e-998d-283ab58df254",
   "metadata": {},
   "outputs": [
    {
     "name": "stdin",
     "output_type": "stream",
     "text": [
      "enter a positive number: 10\n"
     ]
    },
    {
     "name": "stdout",
     "output_type": "stream",
     "text": [
      "the sum is 55\n"
     ]
    }
   ],
   "source": [
    "# sum of 10 natural number\n",
    "num=int(input(\"enter a positive number:\"))\n",
    "if num <10:\n",
    "    print(num)\n",
    "else:\n",
    "    sum=0\n",
    "    while(num>0):\n",
    "        sum+=num \n",
    "        num-=1\n",
    "    print(\"the sum is\",sum)"
   ]
  },
  {
   "cell_type": "code",
   "execution_count": 1,
   "id": "8badb51b-c1df-4b81-911d-6197e63eb9d2",
   "metadata": {},
   "outputs": [
    {
     "name": "stdout",
     "output_type": "stream",
     "text": [
      "[1, 8, 27, 64, 125, 216, 343, 512, 729, 1000, 1331, 1728, 2197, 2744, 3375, 4096, 4913, 5832, 6859, 8000, 9261, 10648, 12167, 13824, 15625, 17576, 19683, 21952, 24389, 27000, 29791, 32768, 35937, 39304, 42875, 46656, 50653, 54872, 59319, 64000, 68921, 74088, 79507, 85184, 91125, 97336, 103823, 110592, 117649, 125000, 132651, 140608, 148877, 157464, 166375, 175616, 185193, 195112, 205379, 216000, 226981, 238328, 250047, 262144, 274625, 287496, 300763, 314432, 328509, 343000, 357911, 373248, 389017, 405224, 421875, 438976, 456533, 474552, 493039, 512000, 531441, 551368, 571787, 592704, 614125, 636056, 658503, 681472, 704969, 729000, 753571, 778688, 804357, 830584, 857375, 884736, 912673, 941192, 970299]\n"
     ]
    }
   ],
   "source": [
    "x=[]\n",
    "for i in range(1,100):\n",
    "    x.append(i**3)\n",
    "print(x)"
   ]
  },
  {
   "cell_type": "code",
   "execution_count": 7,
   "id": "a73cb7c7-7fb6-4159-97f5-dad317d301ef",
   "metadata": {},
   "outputs": [
    {
     "name": "stdout",
     "output_type": "stream",
     "text": [
      "vowel in given string are: 0\n"
     ]
    }
   ],
   "source": [
    "string=\"I WANT TO BECOME DATA SCIENCE MASTER\"\n",
    "vowel=[\"a\",\"e\",\"i\",\"o\",\"u\"]\n",
    "count=0\n",
    "for i in string:\n",
    "    if string in vowel:\n",
    "        count+=1\n",
    "print(\"vowel in given string are:\", count)"
   ]
  },
  {
   "cell_type": "code",
   "execution_count": null,
   "id": "5dcfd0da-5a1c-4b71-8ceb-3c719cf998b2",
   "metadata": {},
   "outputs": [],
   "source": []
  }
 ],
 "metadata": {
  "kernelspec": {
   "display_name": "Python 3 (ipykernel)",
   "language": "python",
   "name": "python3"
  },
  "language_info": {
   "codemirror_mode": {
    "name": "ipython",
    "version": 3
   },
   "file_extension": ".py",
   "mimetype": "text/x-python",
   "name": "python",
   "nbconvert_exporter": "python",
   "pygments_lexer": "ipython3",
   "version": "3.10.8"
  }
 },
 "nbformat": 4,
 "nbformat_minor": 5
}
